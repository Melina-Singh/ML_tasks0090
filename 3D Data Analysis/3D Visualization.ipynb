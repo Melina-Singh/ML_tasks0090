{
 "cells": [
  {
   "cell_type": "markdown",
   "id": "f9cbdf32",
   "metadata": {},
   "source": [
    "#### Task 3: 3D Visualization "
   ]
  },
  {
   "cell_type": "code",
   "execution_count": 1,
   "id": "5d43466d",
   "metadata": {},
   "outputs": [
    {
     "name": "stdout",
     "output_type": "stream",
     "text": [
      "Jupyter environment detected. Enabling Open3D WebVisualizer.\n",
      "[Open3D INFO] WebRTC GUI backend enabled.\n",
      "[Open3D INFO] WebRTCWindowSystem: HTTP handshake server disabled.\n",
      "0.19.0\n"
     ]
    }
   ],
   "source": [
    "import open3d as o3d\n",
    "import numpy as np\n",
    "\n",
    "print(o3d.__version__)"
   ]
  },
  {
   "cell_type": "code",
   "execution_count": 2,
   "id": "daa17f85",
   "metadata": {},
   "outputs": [
    {
     "name": "stdout",
     "output_type": "stream",
     "text": [
      "Number of points: 113662\n"
     ]
    }
   ],
   "source": [
    "# Step 1 Loading  the original point cloud\n",
    "pcd = o3d.io.read_point_cloud(\"fragment.pcd\")\n",
    "\n",
    "num_points = np.asarray(pcd.points).shape[0]\n",
    "print(f\"Number of points: {num_points}\")\n"
   ]
  },
  {
   "cell_type": "markdown",
   "id": "e95ccb95",
   "metadata": {},
   "source": [
    "#### About the Data"
   ]
  },
  {
   "cell_type": "code",
   "execution_count": 3,
   "id": "687a342f",
   "metadata": {},
   "outputs": [
    {
     "name": "stdout",
     "output_type": "stream",
     "text": [
      "Bounding box min: [1.15198874 0.81527287 0.72640908]\n",
      "Bounding box max: [3.51953125 2.76171875 1.53042805]\n"
     ]
    }
   ],
   "source": [
    "# Compute bounding box\n",
    "bbox = pcd.get_axis_aligned_bounding_box()\n",
    "min_bound = bbox.min_bound\n",
    "max_bound = bbox.max_bound\n",
    "print(f\"Bounding box min: {min_bound}\")\n",
    "print(f\"Bounding box max: {max_bound}\")"
   ]
  },
  {
   "cell_type": "code",
   "execution_count": 4,
   "id": "5d513829",
   "metadata": {},
   "outputs": [
    {
     "name": "stdout",
     "output_type": "stream",
     "text": [
      "Approximate point density: 30676.72 points per unit volume\n"
     ]
    }
   ],
   "source": [
    "# Compute density (approximate)\n",
    "vol = np.prod(max_bound - min_bound)\n",
    "density = num_points / vol\n",
    "print(f\"Approximate point density: {density:.2f} points per unit volume\")"
   ]
  },
  {
   "cell_type": "code",
   "execution_count": 5,
   "id": "029f170a",
   "metadata": {},
   "outputs": [
    {
     "name": "stdout",
     "output_type": "stream",
     "text": [
      "Point cloud has color information.\n"
     ]
    }
   ],
   "source": [
    "# Check if color is available\n",
    "if pcd.has_colors():\n",
    "    print(\"Point cloud has color information.\")\n",
    "else:\n",
    "    print(\"No color information found.\")"
   ]
  },
  {
   "cell_type": "code",
   "execution_count": 6,
   "id": "19fab6d7",
   "metadata": {},
   "outputs": [
    {
     "name": "stdout",
     "output_type": "stream",
     "text": [
      "Point cloud has normals.\n"
     ]
    }
   ],
   "source": [
    "# Check if normals are available\n",
    "if pcd.has_normals():\n",
    "    print(\"Point cloud has normals.\")\n",
    "else:\n",
    "    print(\"No normals found.\")"
   ]
  },
  {
   "cell_type": "code",
   "execution_count": 7,
   "id": "6a6fb791",
   "metadata": {},
   "outputs": [
    {
     "name": "stdout",
     "output_type": "stream",
     "text": [
      "Sample points (first 5):\n",
      "[[1.16796875 1.01803279 0.96484375]\n",
      " [1.16845131 1.01953125 0.96484375]\n",
      " [1.16796875 1.02158833 0.96484375]\n",
      " [1.16796875 1.01953125 0.96634495]\n",
      " [1.16796875 1.03289878 0.95703125]]\n",
      "Sample normals (first 5):\n",
      "[[ 0.96546179 -0.08612899  0.24589692]\n",
      " [ 0.96990991 -0.07807195  0.23060687]\n",
      " [ 0.98010278 -0.0494331   0.1922366 ]\n",
      " [ 0.9759478  -0.06353842  0.20853986]\n",
      " [ 0.97493398 -0.2121565   0.06703294]]\n"
     ]
    }
   ],
   "source": [
    "# Show some sample points and normals\n",
    "points = np.asarray(pcd.points)\n",
    "normals = np.asarray(pcd.normals)\n",
    "print(\"Sample points (first 5):\")\n",
    "print(points[:5])\n",
    "print(\"Sample normals (first 5):\")\n",
    "print(normals[:5])"
   ]
  },
  {
   "cell_type": "code",
   "execution_count": 8,
   "id": "631e3752",
   "metadata": {},
   "outputs": [
    {
     "name": "stdout",
     "output_type": "stream",
     "text": [
      "Visualizing original point cloud...\n"
     ]
    }
   ],
   "source": [
    "# Visualize the original point cloud\n",
    "print(\"Visualizing original point cloud...\")\n",
    "o3d.visualization.draw_geometries([pcd])"
   ]
  },
  {
   "cell_type": "markdown",
   "id": "02302829",
   "metadata": {},
   "source": [
    "### Mathematical Explanation of Voxel Downsampling\n",
    "\n",
    "Voxel downsampling divides the point cloud's 3D space into small cubes (voxels) of side length `s` (voxel size). All points inside a voxel are replaced by a single representative point, reducing the total number of vertices.\n",
    "\n",
    "Let:\n",
    "\n",
    "- \\( s \\) = voxel size (e.g., 0.03)\n",
    "- \\( V \\) = volume of the point cloud bounding box\n",
    "- \\( N_o \\) = number of points in the original point cloud\n",
    "- \\( N_d \\) = number of points in the downsampled point cloud\n",
    "\n",
    "\n",
    "Each voxel is a cube with volume:\n",
    "\n",
    "\\[\n",
    "v = s^3\n",
    "\\]\n",
    "\n",
    "The maximum number of possible voxels is:\n",
    "\n",
    "\\[\n",
    "N_{\\text{max\\_voxels}} = \\frac{V}{s^3}\n",
    "\\]\n",
    "\n",
    "Only the **occupied** voxels contribute to the final downsampled point cloud, so:\n",
    "\n",
    "\\[\n",
    "N_d \\leq \\frac{V}{s^3}\n",
    "\\]\n",
    "\n",
    "This means the number of vertices in the downsampled point cloud is **inversely proportional to the cube of the voxel size**:\n",
    "\n",
    "\\[\n",
    "N_d \\propto \\frac{1}{s^3}\n",
    "\\]\n",
    "\n",
    "So, decreasing the voxel size increases the number of downsampled points significantly.  \n",
    "For example, halving the voxel size increases the point count by approximately:\n",
    "\n",
    "\\[\n",
    "2^3 = 8 \\text{ times}\n",
    "\\]\n",
    "\n"
   ]
  },
  {
   "cell_type": "code",
   "execution_count": 9,
   "id": "ea09489c",
   "metadata": {},
   "outputs": [
    {
     "name": "stdout",
     "output_type": "stream",
     "text": [
      "Downsampled point cloud has 7110 points\n"
     ]
    }
   ],
   "source": [
    "# Step 2: Downsample the point cloud using voxel downsampling\n",
    "voxel_size = 0.03 #voxel size can be adjusted as needed\n",
    "downsampled_pcd = pcd.voxel_down_sample(voxel_size=voxel_size)\n",
    "print(f\"Downsampled point cloud has {len(downsampled_pcd.points)} points\")"
   ]
  },
  {
   "cell_type": "code",
   "execution_count": 10,
   "id": "66888ea0",
   "metadata": {},
   "outputs": [],
   "source": [
    "# Estimate normals for downsampled point cloud\n",
    "downsampled_pcd.estimate_normals(\n",
    "    search_param=o3d.geometry.KDTreeSearchParamHybrid(radius=0.1, max_nn=30)\n",
    ")\n"
   ]
  },
  {
   "cell_type": "code",
   "execution_count": 11,
   "id": "354adf9f",
   "metadata": {},
   "outputs": [
    {
     "name": "stdout",
     "output_type": "stream",
     "text": [
      "Visualizing downsampled point cloud...\n"
     ]
    }
   ],
   "source": [
    "# Visualize the downsampled point cloud with normals\n",
    "print(\"Visualizing downsampled point cloud...\")\n",
    "o3d.visualization.draw_geometries([downsampled_pcd], point_show_normal=True)"
   ]
  },
  {
   "cell_type": "code",
   "execution_count": 12,
   "id": "6d1ad30d",
   "metadata": {},
   "outputs": [
    {
     "name": "stdout",
     "output_type": "stream",
     "text": [
      "📊 POINT CLOUD COMPARISON\n",
      "Original vertices:     113,662\n",
      "Downsampled vertices:  7,110\n",
      "Reduction:             93.74%\n",
      "Compression ratio:     15.99x\n"
     ]
    }
   ],
   "source": [
    "# Add this cell to your notebook for a professional touch:\n",
    "def compare_point_clouds(original_pcd, downsampled_pcd):\n",
    "    original_count = len(original_pcd.points)\n",
    "    downsampled_count = len(downsampled_pcd.points)\n",
    "    \n",
    "    reduction_percentage = (original_count - downsampled_count) / original_count * 100\n",
    "    compression_ratio = original_count / downsampled_count\n",
    "    \n",
    "    print(f\"📊 POINT CLOUD COMPARISON\")\n",
    "    print(f\"Original vertices:     {original_count:,}\")\n",
    "    print(f\"Downsampled vertices:  {downsampled_count:,}\")\n",
    "    print(f\"Reduction:             {reduction_percentage:.2f}%\")\n",
    "    print(f\"Compression ratio:     {compression_ratio:.2f}x\")\n",
    "\n",
    "# Use it:\n",
    "compare_point_clouds(pcd, downsampled_pcd)"
   ]
  },
  {
   "cell_type": "code",
   "execution_count": 14,
   "id": "ceba1585",
   "metadata": {},
   "outputs": [
    {
     "name": "stdout",
     "output_type": "stream",
     "text": [
      "🔍 NORMAL VECTOR ANALYSIS\n",
      "========================================\n",
      "Number of normals:     7,110\n",
      "Magnitude mean:        1.000000\n",
      "Magnitude std:         0.000000\n",
      "Magnitude range:       [1.000000, 1.000000]\n",
      "Unit normals:          7110/7110 (100.0%)\n"
     ]
    }
   ],
   "source": [
    "#  Normal Quality Assessment\n",
    "def analyze_normals(pcd_with_normals):\n",
    "    \"\"\"\n",
    "    Add this to analyze the quality of estimated normals\n",
    "    \"\"\"\n",
    "    normals = np.asarray(pcd_with_normals.normals)\n",
    "    \n",
    "    # Check normal magnitudes (should be close to 1.0)\n",
    "    magnitudes = np.linalg.norm(normals, axis=1)\n",
    "    \n",
    "    print(f\"🔍 NORMAL VECTOR ANALYSIS\")\n",
    "    print(f\"{'='*40}\")\n",
    "    print(f\"Number of normals:     {len(normals):,}\")\n",
    "    print(f\"Magnitude mean:        {magnitudes.mean():.6f}\")\n",
    "    print(f\"Magnitude std:         {magnitudes.std():.6f}\")\n",
    "    print(f\"Magnitude range:       [{magnitudes.min():.6f}, {magnitudes.max():.6f}]\")\n",
    "    \n",
    "    # Check if normals are unit vectors (magnitude ≈ 1.0)\n",
    "    unit_normals = np.sum(np.abs(magnitudes - 1.0) < 0.001)\n",
    "    print(f\"Unit normals:          {unit_normals}/{len(normals)} ({unit_normals/len(normals)*100:.1f}%)\")\n",
    "\n",
    "analyze_normals(downsampled_pcd)"
   ]
  },
  {
   "cell_type": "code",
   "execution_count": 16,
   "id": "bb0d88b6",
   "metadata": {},
   "outputs": [
    {
     "name": "stdout",
     "output_type": "stream",
     "text": [
      "Visualizing original (gray) vs downsampled (red) point clouds...\n",
      "[Open3D WARNING] [ViewControl] SetViewPoint() failed because window height and width are not set.\n"
     ]
    }
   ],
   "source": [
    "#  Side-by-Side Visualization\n",
    "def visualize_comparison(pcd, downsampled_pcd):\n",
    "    \"\"\"\n",
    "    Show both point clouds side by side\n",
    "    \"\"\"\n",
    "    # Color the point clouds differently\n",
    "    original_colored = pcd.paint_uniform_color([0.7, 0.7, 0.7])  # Gray\n",
    "    downsampled_colored = downsampled_pcd.paint_uniform_color([1.0, 0.0, 0.0])  # Red\n",
    "    \n",
    "    print(\"Visualizing original (gray) vs downsampled (red) point clouds...\")\n",
    "    o3d.visualization.draw_geometries([original_colored, downsampled_colored])\n",
    "\n",
    "visualize_comparison(pcd, downsampled_pcd)\n"
   ]
  },
  {
   "cell_type": "markdown",
   "id": "416dd569",
   "metadata": {},
   "source": [
    "Summary and Analysis of Normal Estimation Visualization\n",
    "\n",
    "The visualization shows the downsampled point cloud with estimated surface normals represented as small arrows at each point. The normals are generally consistent and smoothly oriented across flat surfaces, indicating accurate normal estimation. At edges and corners, the normals appropriately diverge, reflecting changes in surface orientation. The downsampling retains sufficient point density to capture the main structural features. Overall, the chosen parameters for normal estimation (radius=0.1, max_nn=30) produce reliable and meaningful normal directions that effectively represent the underlying geometry of the scene."
   ]
  }
 ],
 "metadata": {
  "kernelspec": {
   "display_name": "kenv",
   "language": "python",
   "name": "python3"
  },
  "language_info": {
   "codemirror_mode": {
    "name": "ipython",
    "version": 3
   },
   "file_extension": ".py",
   "mimetype": "text/x-python",
   "name": "python",
   "nbconvert_exporter": "python",
   "pygments_lexer": "ipython3",
   "version": "3.10.0"
  }
 },
 "nbformat": 4,
 "nbformat_minor": 5
}
